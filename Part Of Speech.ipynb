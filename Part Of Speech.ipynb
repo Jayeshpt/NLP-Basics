{
 "cells": [
  {
   "cell_type": "code",
   "execution_count": 1,
   "id": "46715d43",
   "metadata": {},
   "outputs": [],
   "source": [
    "import spacy"
   ]
  },
  {
   "cell_type": "code",
   "execution_count": 2,
   "id": "ea1b1473",
   "metadata": {},
   "outputs": [],
   "source": [
    "nlp = spacy.load(\"en_core_web_sm\")\n"
   ]
  },
  {
   "cell_type": "code",
   "execution_count": 3,
   "id": "58ecce6b",
   "metadata": {},
   "outputs": [],
   "source": [
    "doc = nlp(\"Elon flew to mars yesterday.He carried biriyani masala with him\")\n"
   ]
  },
  {
   "cell_type": "code",
   "execution_count": 4,
   "id": "fabbd53a",
   "metadata": {},
   "outputs": [
    {
     "name": "stdout",
     "output_type": "stream",
     "text": [
      "Elon | 96\n",
      "flew | 100\n",
      "to | 85\n",
      "mars | 92\n",
      "yesterday | 92\n",
      ". | 97\n",
      "He | 95\n",
      "carried | 100\n",
      "biriyani | 96\n",
      "masala | 92\n",
      "with | 85\n",
      "him | 95\n"
     ]
    }
   ],
   "source": [
    "for token in doc:\n",
    "    print(token,\"|\",token.pos)"
   ]
  },
  {
   "cell_type": "code",
   "execution_count": 7,
   "id": "bd7b463c",
   "metadata": {},
   "outputs": [
    {
     "name": "stdout",
     "output_type": "stream",
     "text": [
      "Elon | PROPN | proper noun\n",
      "flew | VERB | verb\n",
      "to | ADP | adposition\n",
      "mars | NOUN | noun\n",
      "yesterday | NOUN | noun\n",
      ". | PUNCT | punctuation\n",
      "He | PRON | pronoun\n",
      "carried | VERB | verb\n",
      "biriyani | PROPN | proper noun\n",
      "masala | NOUN | noun\n",
      "with | ADP | adposition\n",
      "him | PRON | pronoun\n"
     ]
    }
   ],
   "source": [
    "for token in doc:\n",
    "    print(token,\"|\",token.pos_,\"|\",spacy.explain(token.pos_))"
   ]
  },
  {
   "cell_type": "code",
   "execution_count": 8,
   "id": "8f67ea41",
   "metadata": {},
   "outputs": [
    {
     "name": "stdout",
     "output_type": "stream",
     "text": [
      "Dr. | PROPN | proper noun\n",
      "Strange | PROPN | proper noun\n",
      "loves | VERB | verb\n",
      "pav | NOUN | noun\n",
      "bahji | NOUN | noun\n",
      "of | ADP | adposition\n",
      "mumbai.as | NUM | numeral\n",
      "its | PRON | pronoun\n",
      "cost | NOUN | noun\n",
      "only | ADV | adverb\n",
      "2 | NUM | numeral\n",
      "$ | SYM | symbol\n",
      "per | ADP | adposition\n",
      "plate | NOUN | noun\n"
     ]
    }
   ],
   "source": [
    "doc = nlp(\"Dr. Strange loves pav bahji of mumbai.as its cost only 2$ per plate\")\n",
    "for token in doc:\n",
    "    print(token,\"|\",token.pos_,\"|\",spacy.explain(token.pos_))"
   ]
  },
  {
   "cell_type": "code",
   "execution_count": 11,
   "id": "98b24db9",
   "metadata": {},
   "outputs": [
    {
     "name": "stdout",
     "output_type": "stream",
     "text": [
      "wow || INTJ || interjection || interjection\n",
      "! || PUNCT || punctuation || punctuation mark, sentence closer\n",
      "Dr. || PROPN || proper noun || noun, proper singular\n",
      "Strange || PROPN || proper noun || noun, proper singular\n",
      "made || VERB || verb || verb, past tense\n",
      "265 || NUM || numeral || cardinal number\n",
      "million || NUM || numeral || cardinal number\n",
      "$ || NUM || numeral || cardinal number\n",
      "on || ADP || adposition || conjunction, subordinating or preposition\n",
      "the || DET || determiner || determiner\n",
      "very || ADV || adverb || adverb\n",
      "first || ADJ || adjective || adjective (English), other noun-modifier (Chinese)\n",
      "day || NOUN || noun || noun, singular or mass\n"
     ]
    }
   ],
   "source": [
    "doc = nlp(\"wow! Dr. Strange made 265 million $ on the very first day\")\n",
    "for token in doc:\n",
    "    print(token,\"||\",token.pos_,\"||\",spacy.explain(token.pos_),\"||\",\n",
    "          spacy.explain(token.tag_))"
   ]
  },
  {
   "cell_type": "code",
   "execution_count": 16,
   "id": "66aee88b",
   "metadata": {},
   "outputs": [],
   "source": [
    "para=\"\"\" Microsoft Corp. today announced the following results for the quarter ended December 31, 2022, as compared to the corresponding period of last fiscal year:\n",
    "\n",
    "·        Revenue was $52.7 billion and increased 2%  \n",
    "\n",
    "·        Operating income was $20.4 billion GAAP and $21.6 billion non-GAAP, and decreased 8% and 3%, respectively etc\n",
    "\n",
    "·        Net income was $16.4 billion GAAP and $17.4 billion non-GAAP, and decreased 12% and 7%, respectively\n",
    "\n",
    "·        Diluted earnings per share was $2.20 GAAP and $2.32 non-GAAP, and decreased 11% and 6%, respectively\"\"\""
   ]
  },
  {
   "cell_type": "code",
   "execution_count": 13,
   "id": "8da89d34",
   "metadata": {},
   "outputs": [],
   "source": [
    "doc = nlp(para)"
   ]
  },
  {
   "cell_type": "code",
   "execution_count": 30,
   "id": "b9f3943d",
   "metadata": {},
   "outputs": [
    {
     "name": "stdout",
     "output_type": "stream",
     "text": [
      "Microsoft | PROPN | proper noun\n",
      "Corp. | PROPN | proper noun\n",
      "today | NOUN | noun\n",
      "announced | VERB | verb\n",
      "the | DET | determiner\n",
      "following | VERB | verb\n",
      "results | NOUN | noun\n",
      "for | ADP | adposition\n",
      "the | DET | determiner\n",
      "quarter | NOUN | noun\n",
      "ended | VERB | verb\n",
      "December | PROPN | proper noun\n",
      "as | SCONJ | subordinating conjunction\n",
      "compared | VERB | verb\n",
      "to | ADP | adposition\n",
      "the | DET | determiner\n",
      "corresponding | ADJ | adjective\n",
      "period | NOUN | noun\n",
      "of | ADP | adposition\n",
      "last | ADJ | adjective\n",
      "fiscal | ADJ | adjective\n",
      "year | NOUN | noun\n",
      "Revenue | NOUN | noun\n",
      "was | AUX | auxiliary\n",
      "and | CCONJ | coordinating conjunction\n",
      "increased | VERB | verb\n",
      "% | NOUN | noun\n",
      "Operating | VERB | verb\n",
      "income | NOUN | noun\n",
      "was | AUX | auxiliary\n",
      "GAAP | NOUN | noun\n",
      "and | CCONJ | coordinating conjunction\n",
      "non | NOUN | noun\n",
      "- | NOUN | noun\n",
      "GAAP | NOUN | noun\n",
      "and | CCONJ | coordinating conjunction\n",
      "decreased | VERB | verb\n",
      "% | NOUN | noun\n",
      "and | CCONJ | coordinating conjunction\n",
      "% | NOUN | noun\n",
      "respectively | ADV | adverb\n",
      "Net | ADJ | adjective\n",
      "income | NOUN | noun\n",
      "was | AUX | auxiliary\n",
      "GAAP | NOUN | noun\n",
      "and | CCONJ | coordinating conjunction\n",
      "non | NOUN | noun\n",
      "- | NOUN | noun\n",
      "GAAP | NOUN | noun\n",
      "and | CCONJ | coordinating conjunction\n",
      "decreased | VERB | verb\n",
      "% | NOUN | noun\n",
      "and | CCONJ | coordinating conjunction\n",
      "% | NOUN | noun\n",
      "respectively | ADV | adverb\n",
      "Diluted | VERB | verb\n",
      "earnings | NOUN | noun\n",
      "per | ADP | adposition\n",
      "share | NOUN | noun\n",
      "was | AUX | auxiliary\n",
      "GAAP | NOUN | noun\n",
      "and | CCONJ | coordinating conjunction\n",
      "non | NOUN | noun\n",
      "- | NOUN | noun\n",
      "GAAP | NOUN | noun\n",
      "and | CCONJ | coordinating conjunction\n",
      "decreased | VERB | verb\n",
      "% | NOUN | noun\n",
      "and | CCONJ | coordinating conjunction\n",
      "% | NOUN | noun\n",
      "respectively | ADV | adverb\n"
     ]
    }
   ],
   "source": [
    "filtered_tokens =[]\n",
    "\n",
    "for token in doc:\n",
    "    if token.pos_ not in ['SPACE','X','PUNCT','NUM',\"SYM\"]:\n",
    "        filtered_tokens.append(token)\n",
    "        print(token,\"|\",token.pos_,\"|\",spacy.explain(token.pos_))\n",
    "        "
   ]
  },
  {
   "cell_type": "code",
   "execution_count": 28,
   "id": "abb00fce",
   "metadata": {},
   "outputs": [
    {
     "data": {
      "text/plain": [
       "[Microsoft,\n",
       " Corp.,\n",
       " today,\n",
       " announced,\n",
       " the,\n",
       " following,\n",
       " results,\n",
       " for,\n",
       " the,\n",
       " quarter,\n",
       " ended,\n",
       " December,\n",
       " as,\n",
       " compared,\n",
       " to,\n",
       " the,\n",
       " corresponding,\n",
       " period,\n",
       " of,\n",
       " last,\n",
       " fiscal,\n",
       " year,\n",
       " Revenue,\n",
       " was,\n",
       " and,\n",
       " increased,\n",
       " %,\n",
       " Operating,\n",
       " income,\n",
       " was,\n",
       " GAAP,\n",
       " and,\n",
       " non,\n",
       " -,\n",
       " GAAP,\n",
       " and,\n",
       " decreased,\n",
       " %,\n",
       " and,\n",
       " %,\n",
       " respectively,\n",
       " Net,\n",
       " income,\n",
       " was,\n",
       " GAAP,\n",
       " and,\n",
       " non,\n",
       " -,\n",
       " GAAP,\n",
       " and,\n",
       " decreased,\n",
       " %,\n",
       " and,\n",
       " %,\n",
       " respectively,\n",
       " Diluted,\n",
       " earnings,\n",
       " per,\n",
       " share,\n",
       " was,\n",
       " GAAP,\n",
       " and,\n",
       " non,\n",
       " -,\n",
       " GAAP,\n",
       " and,\n",
       " decreased,\n",
       " %,\n",
       " and,\n",
       " %,\n",
       " respectively]"
      ]
     },
     "execution_count": 28,
     "metadata": {},
     "output_type": "execute_result"
    }
   ],
   "source": [
    "filtered_tokens"
   ]
  },
  {
   "cell_type": "code",
   "execution_count": 32,
   "id": "9f3b95f5",
   "metadata": {},
   "outputs": [
    {
     "name": "stdout",
     "output_type": "stream",
     "text": [
      "SPACE  |  9\n",
      "PROPN  |  3\n",
      "NOUN  |  29\n",
      "VERB  |  10\n",
      "DET  |  3\n",
      "ADP  |  4\n",
      "NUM  |  21\n",
      "PUNCT  |  13\n",
      "SCONJ  |  1\n",
      "ADJ  |  4\n",
      "AUX  |  4\n",
      "SYM  |  7\n",
      "CCONJ  |  10\n",
      "ADV  |  3\n"
     ]
    }
   ],
   "source": [
    "count =doc.count_by(spacy.attrs.POS)\n",
    "\n",
    "for k,v in count.items():\n",
    "     print(doc.vocab[k].text,\" | \",v)"
   ]
  },
  {
   "cell_type": "code",
   "execution_count": null,
   "id": "4d6dded7",
   "metadata": {},
   "outputs": [],
   "source": []
  }
 ],
 "metadata": {
  "kernelspec": {
   "display_name": "Python 3 (ipykernel)",
   "language": "python",
   "name": "python3"
  },
  "language_info": {
   "codemirror_mode": {
    "name": "ipython",
    "version": 3
   },
   "file_extension": ".py",
   "mimetype": "text/x-python",
   "name": "python",
   "nbconvert_exporter": "python",
   "pygments_lexer": "ipython3",
   "version": "3.9.13"
  }
 },
 "nbformat": 4,
 "nbformat_minor": 5
}
