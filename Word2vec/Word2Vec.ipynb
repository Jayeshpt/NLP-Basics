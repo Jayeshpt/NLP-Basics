{
 "cells": [
  {
   "cell_type": "code",
   "execution_count": 1,
   "id": "6de13fe3",
   "metadata": {},
   "outputs": [],
   "source": [
    "import nltk\n",
    "\n",
    "from gensim.models import Word2Vec #\n",
    "from nltk.corpus import stopwords\n",
    "\n",
    "import re\n",
    "\n",
    "paragraph = \"\"\"I have three visions for India. In 3000 years of our history, people from all over \n",
    "               the world have come and invaded us, captured our lands, conquered our minds. \n",
    "               From Alexander onwards, the Greeks, the Turks, the Moguls, the Portuguese, the British,\n",
    "               the French, the Dutch, all of them came and looted us, took over what was ours. \n",
    "               Yet we have not done this to any other nation. We have not conquered anyone. \n",
    "               We have not grabbed their land, their culture, \n",
    "               their history and tried to enforce our way of life on them. \n",
    "               Why? Because we respect the freedom of others.That is why my \n",
    "               first vision is that of freedom. I believe that India got its first vision of \n",
    "               this in 1857, when we started the War of Independence. It is this freedom that\n",
    "               we must protect and nurture and build on. If we are not free, no one will respect us.\n",
    "               My second vision for India’s development. For fifty years we have been a developing nation.\n",
    "               It is time we see ourselves as a developed nation. We are among the top 5 nations of the world\n",
    "               in terms of GDP. We have a 10 percent growth rate in most areas. Our poverty levels are falling.\n",
    "               Our achievements are being globally recognised today. Yet we lack the self-confidence to\n",
    "               see ourselves as a developed nation, self-reliant and self-assured. Isn’t this incorrect?\n",
    "               I have a third vision. India must stand up to the world. Because I believe that unless India \n",
    "               stands up to the world, no one will respect us. Only strength respects strength. We must be \n",
    "               strong not only as a military power but also as an economic power. Both must go hand-in-hand. \n",
    "               My good fortune was to have worked with three great minds. Dr. Vikram Sarabhai of the Dept. of \n",
    "               space, Professor Satish Dhawan, who succeeded him and Dr. Brahm Prakash, father of nuclear material.\n",
    "               I was lucky to have worked with all three of them closely and consider this the great opportunity of my life. \n",
    "               I see four milestones in my career\"\"\"\n"
   ]
  },
  {
   "cell_type": "code",
   "execution_count": 2,
   "id": "db67b3d1",
   "metadata": {},
   "outputs": [],
   "source": [
    "# Preprocessing the data\n",
    "text = re.sub(r'\\[[0-9]*\\]',' ',paragraph)\n",
    "text = re.sub(r'\\s+',' ',text)\n",
    "text = text.lower()\n",
    "text = re.sub(r'\\d',' ',text)\n",
    "text = re.sub(r'\\s+',' ',text)\n",
    "# Remove question marks\n",
    "text = re.sub(r'\\?', '', text)\n",
    "# Remove dashes\n",
    "text = re.sub(r'-', '', text)\n",
    "# Remove quotes\n",
    "text = re.sub(r'\\'', '', text)\n",
    "text = re.sub(r',', '', text)\n",
    "text = re.sub(r\"'\", '', text)\n"
   ]
  },
  {
   "cell_type": "markdown",
   "id": "ad28dd57",
   "metadata": {},
   "source": [
    "**re.sub(r'\\[[0-9]*\\]', ' ', paragraph): This replaces any occurrence of a string that starts with \"[\" and ends with a digit (0-9) with a space character. This is useful when dealing with text that has footnotes or references that are denoted by square brackets and numbers.\n",
    "\n",
    "**re.sub(r'\\s+', ' ', text): This replaces one or more occurrences of whitespace characters (such as spaces, tabs, or line breaks) with a single space character. This helps to normalize the spacing between words.\n",
    "\n",
    "**text.lower(): This converts all characters in the text variable to lowercase. This is useful when performing text analysis or comparison, as it treats uppercase and lowercase letters as equivalent.\n",
    "\n",
    "**re.sub(r'\\d', ' ', text): This replaces any occurrence of a digit (0-9) with a space character. This is useful when dealing with text that contains numbers that are not relevant to the analysis, as it removes them from the text.\n",
    "\n",
    "**re.sub(r'\\s+', ' ', text): This again replaces one or more occurrences of whitespace characters with a single space character, to ensure consistent spacing between words after the previous substitution."
   ]
  },
  {
   "cell_type": "code",
   "execution_count": 3,
   "id": "39ddb6c5",
   "metadata": {},
   "outputs": [
    {
     "data": {
      "text/plain": [
       "'i have three visions for india. in years of our history people from all over the world have come and invaded us captured our lands conquered our minds. from alexander onwards the greeks the turks the moguls the portuguese the british the french the dutch all of them came and looted us took over what was ours. yet we have not done this to any other nation. we have not conquered anyone. we have not grabbed their land their culture their history and tried to enforce our way of life on them. why because we respect the freedom of others.that is why my first vision is that of freedom. i believe that india got its first vision of this in  when we started the war of independence. it is this freedom that we must protect and nurture and build on. if we are not free no one will respect us. my second vision for india’s development. for fifty years we have been a developing nation. it is time we see ourselves as a developed nation. we are among the top nations of the world in terms of gdp. we have a percent growth rate in most areas. our poverty levels are falling. our achievements are being globally recognised today. yet we lack the selfconfidence to see ourselves as a developed nation selfreliant and selfassured. isn’t this incorrect i have a third vision. india must stand up to the world. because i believe that unless india stands up to the world no one will respect us. only strength respects strength. we must be strong not only as a military power but also as an economic power. both must go handinhand. my good fortune was to have worked with three great minds. dr. vikram sarabhai of the dept. of space professor satish dhawan who succeeded him and dr. brahm prakash father of nuclear material. i was lucky to have worked with all three of them closely and consider this the great opportunity of my life. i see four milestones in my career'"
      ]
     },
     "execution_count": 3,
     "metadata": {},
     "output_type": "execute_result"
    }
   ],
   "source": [
    "text # paragraph after preprocessing"
   ]
  },
  {
   "cell_type": "code",
   "execution_count": 4,
   "id": "5978d485",
   "metadata": {},
   "outputs": [
    {
     "name": "stdout",
     "output_type": "stream",
     "text": [
      "size of sentences 29\n",
      "[['three', 'visions', 'india', '.'], ['years', 'history', 'people', 'world', 'come', 'invaded', 'us', 'captured', 'lands', 'conquered', 'minds', '.'], ['alexander', 'onwards', 'greeks', 'turks', 'moguls', 'portuguese', 'british', 'french', 'dutch', 'came', 'looted', 'us', 'took', '.'], ['yet', 'done', 'nation', '.'], ['conquered', 'anyone', '.'], ['grabbed', 'land', 'culture', 'history', 'tried', 'enforce', 'way', 'life', '.'], ['respect', 'freedom', 'others.that', 'first', 'vision', 'freedom', '.'], ['believe', 'india', 'got', 'first', 'vision', 'started', 'war', 'independence', '.'], ['freedom', 'must', 'protect', 'nurture', 'build', '.'], ['free', 'one', 'respect', 'us', '.'], ['second', 'vision', 'india', '’', 'development', '.'], ['fifty', 'years', 'developing', 'nation', '.'], ['time', 'see', 'developed', 'nation', '.'], ['among', 'top', 'nations', 'world', 'terms', 'gdp', '.'], ['percent', 'growth', 'rate', 'areas', '.'], ['poverty', 'levels', 'falling', '.'], ['achievements', 'globally', 'recognised', 'today', '.'], ['yet', 'lack', 'selfconfidence', 'see', 'developed', 'nation', 'selfreliant', 'selfassured', '.'], ['’', 'incorrect', 'third', 'vision', '.'], ['india', 'must', 'stand', 'world', '.'], ['believe', 'unless', 'india', 'stands', 'world', 'one', 'respect', 'us', '.'], ['strength', 'respects', 'strength', '.'], ['must', 'strong', 'military', 'power', 'also', 'economic', 'power', '.'], ['must', 'go', 'handinhand', '.'], ['good', 'fortune', 'worked', 'three', 'great', 'minds', '.'], ['dr.', 'vikram', 'sarabhai', 'dept', '.'], ['space', 'professor', 'satish', 'dhawan', 'succeeded', 'dr.', 'brahm', 'prakash', 'father', 'nuclear', 'material', '.'], ['lucky', 'worked', 'three', 'closely', 'consider', 'great', 'opportunity', 'life', '.'], ['see', 'four', 'milestones', 'career']]\n"
     ]
    }
   ],
   "source": [
    "\n",
    "# Preparing the dataset\n",
    "sentences = nltk.sent_tokenize(text)\n",
    "\n",
    "sentences = [nltk.word_tokenize(sentence) for sentence in sentences]\n",
    "\n",
    "for i in range(len(sentences)):\n",
    "    sentences[i] = [word for word in sentences[i] if word not in stopwords.words('english')]\n",
    "    \n",
    "print(\"size of sentences\",len(sentences))\n",
    "\n",
    "print(sentences) # sentences after preprocessing and without stopwords"
   ]
  },
  {
   "cell_type": "code",
   "execution_count": 5,
   "id": "e60e15a1",
   "metadata": {},
   "outputs": [
    {
     "data": {
      "text/plain": [
       "<gensim.models.word2vec.Word2Vec at 0x2a54e7359a0>"
      ]
     },
     "execution_count": 5,
     "metadata": {},
     "output_type": "execute_result"
    }
   ],
   "source": [
    "# Training the Word2Vec model\n",
    "model = Word2Vec(sentences, min_count=1)\n",
    "\n",
    "model"
   ]
  },
  {
   "cell_type": "code",
   "execution_count": 6,
   "id": "84ee7f56",
   "metadata": {},
   "outputs": [
    {
     "name": "stdout",
     "output_type": "stream",
     "text": [
      "[-2.61173816e-03 -7.92024378e-03 -8.26209970e-03 -7.58045213e-03\n",
      "  3.55445244e-03 -7.61143351e-03 -3.72244883e-03  6.65871473e-03\n",
      "  7.39357248e-03 -6.43098727e-03  6.80054678e-03 -7.78334588e-03\n",
      "  1.28670465e-04  6.63582981e-03 -2.82374537e-03  9.21673141e-03\n",
      " -3.33263481e-04  4.65606153e-03  6.94477977e-03 -8.55670776e-03\n",
      " -6.06843736e-03 -7.28824968e-03 -1.15671929e-03 -7.08851265e-03\n",
      "  1.21145255e-04 -8.03971291e-03  5.02366165e-04 -3.79406847e-04\n",
      "  6.46884879e-03 -8.87515303e-03 -3.17180459e-03  5.89154055e-03\n",
      "  9.23074316e-03 -1.80943217e-03  7.78265006e-04 -6.06967136e-03\n",
      "  8.32648249e-04 -8.14362243e-03 -7.64800189e-03  1.38022215e-03\n",
      " -8.84134570e-05  5.56161720e-03 -9.74921975e-03  1.65078067e-03\n",
      "  1.58355315e-03 -5.24513284e-03  6.71576781e-05  6.06777146e-03\n",
      " -6.60164142e-03  2.95783859e-04  3.90853547e-03  1.70435780e-03\n",
      "  2.84753158e-03  8.16546474e-03  6.68988144e-03  3.50559386e-03\n",
      "  7.98936188e-03 -7.66820787e-03  7.53140356e-03  3.88474856e-03\n",
      " -5.90051664e-03 -4.18535015e-03  6.40364876e-03  5.80164045e-03\n",
      " -9.86613333e-03  1.25818467e-03 -3.92081100e-04  8.31613725e-04\n",
      "  7.05880160e-03 -7.15185050e-03  9.64880083e-03 -9.44542419e-03\n",
      "  6.21935120e-03  9.50035267e-03 -3.82266054e-03 -9.39781312e-03\n",
      "  6.17390126e-03 -8.96256138e-03 -8.29630718e-03 -8.32289807e-04\n",
      " -6.64918823e-03  8.75163730e-03  7.84119964e-03  8.30061676e-04\n",
      "  8.00899416e-03  9.84446052e-03  5.19725122e-03  4.32846649e-03\n",
      "  5.39132860e-03  6.42582914e-03  4.74227406e-03  6.38521090e-03\n",
      " -7.44667370e-03  8.87434743e-03  8.28984380e-03  9.39612277e-03\n",
      " -9.02364124e-03 -3.45206889e-03 -3.53303709e-04  4.16422961e-03]\n"
     ]
    }
   ],
   "source": [
    "# Finding Word Vectors\n",
    "vector = model.wv['war']\n",
    "\n",
    "print(vector)\n"
   ]
  },
  {
   "cell_type": "code",
   "execution_count": 7,
   "id": "3cb5a3aa",
   "metadata": {},
   "outputs": [
    {
     "data": {
      "text/plain": [
       "[('took', 0.26926055550575256),\n",
       " ('minds', 0.2209104746580124),\n",
       " ('also', 0.2121620774269104),\n",
       " ('independence', 0.21099185943603516),\n",
       " ('nation', 0.20096372067928314),\n",
       " ('moguls', 0.18736161291599274),\n",
       " ('conquered', 0.1866704821586609),\n",
       " ('power', 0.17113752663135529),\n",
       " ('strength', 0.1537299007177353),\n",
       " ('nurture', 0.1461847424507141)]"
      ]
     },
     "execution_count": 7,
     "metadata": {},
     "output_type": "execute_result"
    }
   ],
   "source": [
    "# Most similar words\n",
    "similar = model.wv.most_similar('vikram')\n",
    "\n",
    "similar"
   ]
  },
  {
   "cell_type": "code",
   "execution_count": 8,
   "id": "36bd3fa5",
   "metadata": {},
   "outputs": [
    {
     "data": {
      "text/plain": [
       "['.',\n",
       " 'india',\n",
       " 'must',\n",
       " 'world',\n",
       " 'us',\n",
       " 'nation',\n",
       " 'vision',\n",
       " 'see',\n",
       " 'respect',\n",
       " 'freedom',\n",
       " 'three',\n",
       " 'conquered',\n",
       " 'great',\n",
       " 'life',\n",
       " 'strength',\n",
       " 'first',\n",
       " 'minds',\n",
       " 'power',\n",
       " 'developed',\n",
       " 'believe',\n",
       " 'worked',\n",
       " 'yet',\n",
       " 'dr.',\n",
       " '’',\n",
       " 'years',\n",
       " 'history',\n",
       " 'one',\n",
       " 'father',\n",
       " 'lucky',\n",
       " 'anyone',\n",
       " 'grabbed',\n",
       " 'land',\n",
       " 'culture',\n",
       " 'tried',\n",
       " 'enforce',\n",
       " 'way',\n",
       " 'prakash',\n",
       " 'material',\n",
       " 'nuclear',\n",
       " 'started',\n",
       " 'others.that',\n",
       " 'independence',\n",
       " 'got',\n",
       " 'war',\n",
       " 'brahm',\n",
       " 'dutch',\n",
       " 'done',\n",
       " 'took',\n",
       " 'visions',\n",
       " 'four',\n",
       " 'opportunity',\n",
       " 'people',\n",
       " 'consider',\n",
       " 'come',\n",
       " 'invaded',\n",
       " 'closely',\n",
       " 'captured',\n",
       " 'lands',\n",
       " 'alexander',\n",
       " 'onwards',\n",
       " 'greeks',\n",
       " 'turks',\n",
       " 'moguls',\n",
       " 'portuguese',\n",
       " 'british',\n",
       " 'french',\n",
       " 'nurture',\n",
       " 'came',\n",
       " 'looted',\n",
       " 'protect',\n",
       " 'second',\n",
       " 'build',\n",
       " 'economic',\n",
       " 'selfassured',\n",
       " 'incorrect',\n",
       " 'third',\n",
       " 'stand',\n",
       " 'unless',\n",
       " 'stands',\n",
       " 'respects',\n",
       " 'strong',\n",
       " 'military',\n",
       " 'also',\n",
       " 'go',\n",
       " 'free',\n",
       " 'handinhand',\n",
       " 'good',\n",
       " 'fortune',\n",
       " 'vikram',\n",
       " 'sarabhai',\n",
       " 'dept',\n",
       " 'space',\n",
       " 'professor',\n",
       " 'satish',\n",
       " 'dhawan',\n",
       " 'selfreliant',\n",
       " 'selfconfidence',\n",
       " 'lack',\n",
       " 'today',\n",
       " 'succeeded',\n",
       " 'development',\n",
       " 'fifty',\n",
       " 'developing',\n",
       " 'time',\n",
       " 'milestones',\n",
       " 'among',\n",
       " 'top',\n",
       " 'nations',\n",
       " 'terms',\n",
       " 'gdp',\n",
       " 'percent',\n",
       " 'growth',\n",
       " 'rate',\n",
       " 'areas',\n",
       " 'poverty',\n",
       " 'levels',\n",
       " 'falling',\n",
       " 'achievements',\n",
       " 'globally',\n",
       " 'recognised',\n",
       " 'career']"
      ]
     },
     "execution_count": 8,
     "metadata": {},
     "output_type": "execute_result"
    }
   ],
   "source": [
    "# Accessing vocabulary\n",
    "words = list(model.wv.key_to_index.keys())\n",
    "\n",
    "words"
   ]
  },
  {
   "cell_type": "code",
   "execution_count": 9,
   "id": "a3e80872",
   "metadata": {},
   "outputs": [
    {
     "data": {
      "text/plain": [
       "array([-8.6239502e-03,  3.6838977e-03,  5.1838858e-03,  5.7401503e-03,\n",
       "        7.4963924e-03, -6.2076510e-03,  1.0876282e-03,  6.1105043e-03,\n",
       "       -2.8771337e-03, -6.2300572e-03, -4.1022358e-04, -8.3979694e-03,\n",
       "       -5.5898023e-03,  7.1350140e-03,  3.3962762e-03,  7.2027352e-03,\n",
       "        6.7825080e-03,  7.5012450e-03, -3.8214482e-03, -5.9506984e-04,\n",
       "        2.3229923e-03, -4.5450875e-03,  8.3967960e-03, -9.8655606e-03,\n",
       "        6.7514097e-03,  2.9006470e-03, -4.9458118e-03,  4.4337963e-03,\n",
       "       -1.7463068e-03,  6.7104879e-03,  9.9711111e-03, -4.3849815e-03,\n",
       "       -6.2942907e-04, -5.7236706e-03,  3.8602022e-03,  2.8179772e-03,\n",
       "        6.9213500e-03,  6.0840244e-03,  9.5211584e-03,  9.2451395e-03,\n",
       "        7.8761885e-03, -6.9921212e-03, -9.1567719e-03, -3.3601606e-04,\n",
       "       -3.0648792e-03,  7.8934580e-03,  5.9444723e-03, -1.5542574e-03,\n",
       "        1.5034487e-03,  1.8146643e-03,  7.8266310e-03, -9.5241740e-03,\n",
       "       -2.1414265e-04,  3.4556671e-03, -9.6583390e-04,  8.3883768e-03,\n",
       "        9.0145627e-03,  6.5421741e-03, -7.3376065e-04,  7.6994877e-03,\n",
       "       -8.5053546e-03,  3.2268707e-03, -4.6037696e-03, -5.0716684e-03,\n",
       "        3.5497227e-03,  5.4061161e-03,  7.8316564e-03, -5.7036900e-03,\n",
       "        7.3838523e-03,  6.6752769e-03, -3.6998021e-03, -8.7226415e-03,\n",
       "        5.4418920e-03,  6.5308856e-03, -7.5813354e-04, -6.6782753e-03,\n",
       "       -7.1061905e-03, -2.4685904e-03,  5.1313546e-03, -3.6747779e-03,\n",
       "       -9.3831718e-03,  3.8340760e-03,  4.8521198e-03, -6.4253532e-03,\n",
       "        1.2235339e-03, -2.0809993e-03,  4.1588770e-05, -9.8697208e-03,\n",
       "        2.7226429e-03, -4.7436459e-03,  1.1012749e-03, -1.5706664e-03,\n",
       "        2.2153803e-03, -7.8620398e-03, -2.6789256e-03,  2.6758530e-03,\n",
       "        5.3704730e-03, -2.4192892e-03, -9.5247077e-03,  4.4918703e-03],\n",
       "      dtype=float32)"
      ]
     },
     "execution_count": 9,
     "metadata": {},
     "output_type": "execute_result"
    }
   ],
   "source": [
    "vect=model.wv['india']\n",
    "vect"
   ]
  },
  {
   "cell_type": "code",
   "execution_count": 10,
   "id": "d52e27ff",
   "metadata": {},
   "outputs": [
    {
     "data": {
      "text/plain": [
       "[('selfconfidence', 0.2511785626411438),\n",
       " ('come', 0.24778088927268982),\n",
       " ('.', 0.21701580286026),\n",
       " ('brahm', 0.21435722708702087),\n",
       " ('nurture', 0.20420192182064056),\n",
       " ('war', 0.1621515452861786),\n",
       " ('falling', 0.15556438267230988),\n",
       " ('handinhand', 0.15210849046707153),\n",
       " ('nations', 0.14882208406925201),\n",
       " ('percent', 0.14444565773010254)]"
      ]
     },
     "execution_count": 10,
     "metadata": {},
     "output_type": "execute_result"
    }
   ],
   "source": [
    "similar=model.wv.most_similar('freedom')  # here we can see the vectors that similar with war\n",
    "similar       "
   ]
  },
  {
   "cell_type": "code",
   "execution_count": null,
   "id": "ba003557",
   "metadata": {},
   "outputs": [],
   "source": []
  }
 ],
 "metadata": {
  "kernelspec": {
   "display_name": "Python 3 (ipykernel)",
   "language": "python",
   "name": "python3"
  },
  "language_info": {
   "codemirror_mode": {
    "name": "ipython",
    "version": 3
   },
   "file_extension": ".py",
   "mimetype": "text/x-python",
   "name": "python",
   "nbconvert_exporter": "python",
   "pygments_lexer": "ipython3",
   "version": "3.9.13"
  }
 },
 "nbformat": 4,
 "nbformat_minor": 5
}
